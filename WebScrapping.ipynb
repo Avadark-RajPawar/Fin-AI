{
  "nbformat": 4,
  "nbformat_minor": 0,
  "metadata": {
    "colab": {
      "provenance": []
    },
    "kernelspec": {
      "name": "python3",
      "display_name": "Python 3"
    },
    "language_info": {
      "name": "python"
    }
  },
  "cells": [
    {
      "cell_type": "code",
      "execution_count": null,
      "metadata": {
        "id": "wDE7T4ZVGxp9"
      },
      "outputs": [],
      "source": [
        "import requests\n",
        "import bs4\n",
        "from bs4 import BeautifulSoup"
      ]
    },
    {
      "cell_type": "code",
      "source": [
        "url = 'https://m.economictimes.com/markets/stocks/news'"
      ],
      "metadata": {
        "id": "8h3-7HjEG5Fk"
      },
      "execution_count": null,
      "outputs": []
    },
    {
      "cell_type": "code",
      "source": [
        "headers ={\n",
        "    'User-Agent' : \"Mozilla/5.0 (Macintosh; Intel Mac OS X 10_15_7) AppleWebKit/605.1.15 (KHTML, like Gecko) Version/17.1 Safari/605.1.15\"\n",
        "}"
      ],
      "metadata": {
        "id": "Lnf4rdcKG9Fz"
      },
      "execution_count": null,
      "outputs": []
    },
    {
      "cell_type": "code",
      "source": [
        "r = requests.get(url,{'headers':headers})"
      ],
      "metadata": {
        "id": "ONfEP1USHG-V"
      },
      "execution_count": null,
      "outputs": []
    },
    {
      "cell_type": "code",
      "source": [
        "soup = bs4.BeautifulSoup(r.text,'html.parser')"
      ],
      "metadata": {
        "id": "8peLkbuHHNOQ"
      },
      "execution_count": null,
      "outputs": []
    },
    {
      "cell_type": "code",
      "source": [
        "soup.find_all('div',{'class':'eachStory'})[0].find_all('a')[-1].text"
      ],
      "metadata": {
        "colab": {
          "base_uri": "https://localhost:8080/",
          "height": 35
        },
        "id": "sB00xRevHWTl",
        "outputId": "bf7b26e8-34b0-46d9-d156-217a661d4133"
      },
      "execution_count": null,
      "outputs": [
        {
          "output_type": "execute_result",
          "data": {
            "text/plain": [
              "'Ahead of Market: 10 things that will decide D-Street action on Monday'"
            ],
            "application/vnd.google.colaboratory.intrinsic+json": {
              "type": "string"
            }
          },
          "metadata": {},
          "execution_count": 6
        }
      ]
    },
    {
      "cell_type": "code",
      "source": [
        "i = 0\n",
        "while i<10 :\n",
        "\n",
        "    headline = (soup.find_all('div',{'class':'eachStory'})[i].find_all('a')[-1].text)\n",
        "    print(str(i+1)+\": \"+headline)\n",
        "    print (soup.find_all('div',{'class':'eachStory'})[i].find_all('p')[0].text)\n",
        "    print()\n",
        "    i+=1"
      ],
      "metadata": {
        "colab": {
          "base_uri": "https://localhost:8080/"
        },
        "id": "AjE_vhjIHZEk",
        "outputId": "d8298cb7-a0e9-4f2c-b98a-425d2044a6d6"
      },
      "execution_count": null,
      "outputs": [
        {
          "output_type": "stream",
          "name": "stdout",
          "text": [
            "1: Ahead of Market: 10 things that will decide D-Street action on Monday\n",
            " \"After a gap-up opening, Nifty faced resistance around 19,250-19,300 levels, and we can see maximum put writing at 19,200 levels, which may act as strong support for Nifty. We can see maximum open interest in the 19,300 call option, so one should only be bullish on Nifty if it closes above its crucial 100-day moving average, which is placed at 19,300,\" said Kunal Shah, Senior Technical & Derivative Analyst at LKP Securities.\n",
            "\n",
            "2: Market Trading Guide: L&T Finance Holdings among 5 stock recommendations for Monday\n",
            "Indian equity indices ended higher on Friday, supported by the US Federal Reserve's rate pause which triggered a rise in global equities. The S&P BSE Sensex closed 0.44% higher at 64,364, while the NSE Nifty 50 index ended above the 19,200 level. \"After a gap-up opening, Nifty 50 faced resistance around 19,250-19,300 levels, and we can see maximum put writing at 19,200 levels, which may act as strong support for Nifty. We can see maximum open interest in the 19,300 call option, so one should only be bullish on Nifty if it closes above its crucial 100-day moving average, which is placed at 19,300,\" said Kunal Shah, senior technical and derivative analyst, LKP Securities.Here are 5 stock recommendations for Monday:\n",
            "\n",
            "3: 4 stocks that witnessed a rise in volumes and prices in last 3 days\n",
            "\n",
            "\n",
            "4: This ratio gives better guidance for long-term investors\n",
            "Given the fact that it is one of the easiest to calculate and understood by the majority of investors. Whether it is an analyst report or company’s presentation, it is very likely that price earning (P/E ) ratio  might have been used to justify either a buy or sell recommendation. But there is a better ratio than this P/E, that is the PEG ratio. PEG ratio is a complex process and comes with its own set of challenges. However, even with these challenges, it is worth looking at PEG ratio before taking a long term investment decision. \n",
            "\n",
            "5: ​Diwali Picks: Airtel, Ashoka Buildcon among 5 firework stock ideas from StoxBox\n",
            "Ahead of Diwali, brokerage house StoxBox has recommended five stocks that investors can look to buy and get returns of up to 22%. These stocks are from sectors like telecom, real estate, and personal care. Here are 5 stock recommendations from StoxBox:\n",
            "\n",
            "6: Selectively bullish: 6 midcap stocks with right levels of RoE and upside scope of up to 38%\n",
            "For all those who are rattled by what happened in the last few weeks to mid-cap stocks in their portfolio, they all should remember one simple principle, mid-cap stocks are risky bets and they should be aware of the risks while buying them. Anyone who has any doubt should look at three months, October 2021, June 2022 and April 2023. The first date is when small and midcap stocks were at their peak and the second i.e. June 2022 is when they were at their lowest. In just nine months a number of them lost all the gains they had made in two years in the covid rally. So while buying mid-cap stocks it would be better to apply more filters. Refinitiv’s Stock Report Plus lists stocks with high upside potential over the next 12 months, having an average recommendation rating of “buy” or \"strong buy\".\n",
            "\n",
            "7: Investing lessons from ICC Cricket World Cup 2023\n",
            "The factors determining the performance in two different periods are never the same.  So, investments based on past performance may not yield similar results in the future always. This tendency to invest based on past performance is a behavioural bias commonly termed trend-chasing or extrapolation bias.\n",
            "\n",
            "8: New tailwinds emerge! 5 midcap pharma stocks with upside potential of up to 37%\n",
            "If one looks at corporate announcements, a large number of small and mid-caps pharma companies are announcing one or the other thing either about US FDA or European authorities giving approval or inspection. While the large players had moved to international markets a long time back, a number of small companies that had domestic focussed business are also moving into the developed global markets. Will this lead to re-rating?\n",
            "\n",
            "9: M-cap of nine of top-10 most valued firms surges Rs 97,463 crore; Reliance leads\n",
            "The valuation of ICICI Bank surged Rs 14,749.52 crore to Rs 6,54,042.46 crore and that of HDFC Bank climbed Rs 11,657.11 crore to Rs 11,25,842.89 crore.\n",
            "\n",
            "10: FPI sell-off continues; Rs 3,400 cr pulled out in just 3 trading sessions in Nov \n",
            "Before the outflow, FPIs were incessantly buying Indian equities in the last six months from March to August and brought in Rs 1.74 lakh crore during the period.\n",
            "\n"
          ]
        }
      ]
    },
    {
      "cell_type": "code",
      "source": [
        "def getNews():\n",
        "  r = requests.get(url,{'headers':headers})\n",
        "  soup = bs4.BeautifulSoup(r.text,'html.parser')\n",
        "  soup.find_all('div',{'class': 'eachStory'})[0].find_all('a')[-1].text\n",
        "  i = 0\n",
        "  length = len(soup.find_all('div',{'class': 'eachStory'}))\n",
        "\n",
        "  while i <length:\n",
        "     headline = (soup.find_all('div',{'class': 'eachStory'})[i].find_all('a')[-1].text)\n",
        "     print (str(i+1)+\": \"+headline)\n",
        "     print (soup.find_all('div',{'class':'eachStory'})[i].find_all('p')[0].text)\n",
        "     print()\n",
        "     i+=1"
      ],
      "metadata": {
        "id": "t5Neup6bT5PD"
      },
      "execution_count": null,
      "outputs": []
    },
    {
      "cell_type": "code",
      "source": [
        "getNews()"
      ],
      "metadata": {
        "colab": {
          "base_uri": "https://localhost:8080/"
        },
        "id": "JhIcjmx3VR15",
        "outputId": "192a9683-3cb8-45a2-8f99-15701311cdff"
      },
      "execution_count": null,
      "outputs": [
        {
          "output_type": "stream",
          "name": "stdout",
          "text": [
            "1: Ahead of Market: 10 things that will decide D-Street action on Monday\n",
            " \"After a gap-up opening, Nifty faced resistance around 19,250-19,300 levels, and we can see maximum put writing at 19,200 levels, which may act as strong support for Nifty. We can see maximum open interest in the 19,300 call option, so one should only be bullish on Nifty if it closes above its crucial 100-day moving average, which is placed at 19,300,\" said Kunal Shah, Senior Technical & Derivative Analyst at LKP Securities.\n",
            "\n",
            "2: Market Trading Guide: L&T Finance Holdings among 5 stock recommendations for Monday\n",
            "Indian equity indices ended higher on Friday, supported by the US Federal Reserve's rate pause which triggered a rise in global equities. The S&P BSE Sensex closed 0.44% higher at 64,364, while the NSE Nifty 50 index ended above the 19,200 level. \"After a gap-up opening, Nifty 50 faced resistance around 19,250-19,300 levels, and we can see maximum put writing at 19,200 levels, which may act as strong support for Nifty. We can see maximum open interest in the 19,300 call option, so one should only be bullish on Nifty if it closes above its crucial 100-day moving average, which is placed at 19,300,\" said Kunal Shah, senior technical and derivative analyst, LKP Securities.Here are 5 stock recommendations for Monday:\n",
            "\n",
            "3: 4 stocks that witnessed a rise in volumes and prices in last 3 days\n",
            "\n",
            "\n",
            "4: This ratio gives better guidance for long-term investors\n",
            "Given the fact that it is one of the easiest to calculate and understood by the majority of investors. Whether it is an analyst report or company’s presentation, it is very likely that price earning (P/E ) ratio  might have been used to justify either a buy or sell recommendation. But there is a better ratio than this P/E, that is the PEG ratio. PEG ratio is a complex process and comes with its own set of challenges. However, even with these challenges, it is worth looking at PEG ratio before taking a long term investment decision. \n",
            "\n",
            "5: ​Diwali Picks: Airtel, Ashoka Buildcon among 5 firework stock ideas from StoxBox\n",
            "Ahead of Diwali, brokerage house StoxBox has recommended five stocks that investors can look to buy and get returns of up to 22%. These stocks are from sectors like telecom, real estate, and personal care. Here are 5 stock recommendations from StoxBox:\n",
            "\n",
            "6: Selectively bullish: 6 midcap stocks with right levels of RoE and upside scope of up to 38%\n",
            "For all those who are rattled by what happened in the last few weeks to mid-cap stocks in their portfolio, they all should remember one simple principle, mid-cap stocks are risky bets and they should be aware of the risks while buying them. Anyone who has any doubt should look at three months, October 2021, June 2022 and April 2023. The first date is when small and midcap stocks were at their peak and the second i.e. June 2022 is when they were at their lowest. In just nine months a number of them lost all the gains they had made in two years in the covid rally. So while buying mid-cap stocks it would be better to apply more filters. Refinitiv’s Stock Report Plus lists stocks with high upside potential over the next 12 months, having an average recommendation rating of “buy” or \"strong buy\".\n",
            "\n",
            "7: Investing lessons from ICC Cricket World Cup 2023\n",
            "The factors determining the performance in two different periods are never the same.  So, investments based on past performance may not yield similar results in the future always. This tendency to invest based on past performance is a behavioural bias commonly termed trend-chasing or extrapolation bias.\n",
            "\n",
            "8: New tailwinds emerge! 5 midcap pharma stocks with upside potential of up to 37%\n",
            "If one looks at corporate announcements, a large number of small and mid-caps pharma companies are announcing one or the other thing either about US FDA or European authorities giving approval or inspection. While the large players had moved to international markets a long time back, a number of small companies that had domestic focussed business are also moving into the developed global markets. Will this lead to re-rating?\n",
            "\n",
            "9: M-cap of nine of top-10 most valued firms surges Rs 97,463 crore; Reliance leads\n",
            "The valuation of ICICI Bank surged Rs 14,749.52 crore to Rs 6,54,042.46 crore and that of HDFC Bank climbed Rs 11,657.11 crore to Rs 11,25,842.89 crore.\n",
            "\n",
            "10: FPI sell-off continues; Rs 3,400 cr pulled out in just 3 trading sessions in Nov \n",
            "Before the outflow, FPIs were incessantly buying Indian equities in the last six months from March to August and brought in Rs 1.74 lakh crore during the period.\n",
            "\n",
            "11: These 5 Sensex stocks saw highest target downgrades by brokerages. Do you own any?\n",
            "Trendlyne filter helped narrow Sensex stocks which have seen at least five brokers downgrade the target price or recommendation within the past month. The list includes prominent names like RIL, Asian Paints, among others. Take a look:\n",
            "\n",
            "12: Q2 results this week: Adani Ports, Tata Power, LIC, RVNL, M&M and others\n",
            "Power Grid, Shree Cements, Trent, Zydus Lifesciences, Info Edge (India), Indian Railway Catering & Tourism Corporation, Cummins India, Alkem Laboratories, UNO Minda, Prestige Estates Projects, among others will release their Q2 earnings on November 7\n",
            "\n",
            "13: Q2 earnings, global cues among 8 factors to drive Dalal Street this week\n",
            "As the earnings near the fag end, a plethora of companies are scheduled to release their second-quarter earnings in the week ahead. Divi’s Laboratories, FSN E-Commerce, Power Grid Corp of India, Adani Ports and SEZ, Apollo Hospitals, Bosch, Zee Entertainment Enterprises, LIC, Oil and Natural Gas Corp, Coal India, M&M, HAL, and Hindalco Industries are among the big names to watch out for.\n",
            "\n",
            "14: Price wars are still on but... 4 stocks from diagnostics sector have upside potential of up to 26%\n",
            "In the last five years, the diagnostic segment of the healthcare sector has seen many ups and downs. During Covid, diagnostic players were overloaded with work and then came the price wars which some new tech companies brought on the table. The price war was essentially started to grab both, market and mind share. While the price war is still on in some segments, there is a possibility that its intensity may come down. The reason, new companies have burnt enough cash and large physical-only players have also made some inroads into digital channels for customer acquisition and also part delivery of the service. Will this bring back focus of the street? \n",
            "\n",
            "15: For uncertain and volatile times: 7 largecap stocks with right mix of RoE & RoCE\n",
            "For most, market movement this week may not appear volatile, but the fact is last week was pretty much very volatile both at the index and market breadth level. First three days of decline and then two days of up move. But the underlying bias of the market is still bearish as even when the Nifty was trading in green, the market breadth was not very positive. So it would be better to be selectively bullish and put more checks and balances both in terms of quantitative and qualitative parameters while looking at stocks. \n",
            "\n",
            "16: Wealth Multiplier! Rs 10,000/month SIP in this HDFC fund would have turned to Rs 7 crore in over 20 years\n",
            "An SIP of Rs 10,000 invested systematically every month in HDFC Top 100 Fund would have grown to Rs 6.88 crore by September. The HDFC Top 100 fund, which predominantly invests in largecap stocks, has completed 27 years since its launch. The scheme has given around 14% returns on SIP investments made for a period of 10-15 years. \n",
            "\n"
          ]
        }
      ]
    }
  ]
}